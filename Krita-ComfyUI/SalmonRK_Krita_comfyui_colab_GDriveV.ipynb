import os
import subprocess

# Connect Google Drive
from google.colab import drive
drive.mount('/content/drive')

!apt -y update -qq
!apt -y install -qq aria2
!pip install -q torch==2.0.0+cu118 torchvision==0.15.1+cu118 torchaudio==2.0.1+cu118 torchtext==0.15.1 torchdata==0.6.0 --extra-index-url https://download.pytorch.org/whl/cu118 -U
#!pip install torch torchvision torchaudio --index-url https://download.pytorch.org/whl/cu121
!pip install -q xformers==0.0.19 triton==2.0.0 -U
!pip install -q mediapipe==0.9.1.0 addict yapf fvcore omegaconf

%cd /content/drive/MyDrive/
if not os.path.exists("/content/drive/MyDrive/ComfyUI"):
        subprocess.run(["git", "clone", "https://github.com/comfyanonymous/ComfyUI", "/content/drive/MyDrive/ComfyUI"], check=True)
%cd /content/drive/MyDrive/ComfyUI
!pip install -q -r requirements.txt
!git reset --hard

##Krita Ai Diffusion
node_dir = "/content/drive/MyDrive/ComfyUI/custom_nodes/"
repositories = [
    ("https://github.com/ltdrdata/ComfyUI-Manager", "ComfyUI-Manager"),
    ("https://github.com/Fannovel16/comfyui_controlnet_aux", "comfyui_controlnet_aux"),
    ("https://github.com/cubiq/ComfyUI_IPAdapter_plus", "ComfyUI_IPAdapter_plus"),
    ("https://github.com/SalmonRK/ComfyUI_UltimateSDUpscale", "ComfyUI_UltimateSDUpscale"),
    ("https://github.com/Acly/comfyui-inpaint-nodes", "comfyui-inpaint-nodes"),
    ("https://github.com/Acly/comfyui-tooling-nodes", "comfyui-tooling-nodes")
]
for repo_url, dir_name in repositories:
    target_dir = os.path.join(node_dir, dir_name)
    if not os.path.exists(target_dir):
        subprocess.run(["git", "clone", repo_url, target_dir], check=True)

##Download Model
%cd /content
!pip install aiohttp tqdm
!wget https://github.com/Acly/krita-ai-diffusion/releases/download/v1.20.0/krita_ai_diffusion-1.20.0.zip
!unzip krita_ai_diffusion-1.20.0.zip
!python /content/ai_diffusion/download_models.py /content/drive/MyDrive/ComfyUI

model_path = "/content/drive/MyDrive/ComfyUI/models/"
repositories = [
    ("https://huggingface.co/ckpt/OrangeMixs/resolve/main/AOM3.safetensors", "checkpoints", "AOM3.safetensors"),
    ("https://civitai.com/api/download/models/143906", "checkpoints", "epicrealism_naturalSinRC1VAE.safetensors"),
    ("https://civitai.com/api/download/models/220771", "checkpoints", "RyuzakiMixRealistic_V10.safetensors"),
    ("https://civitai.com/api/download/models/21173", "loras", "Colorwater_v4.safetensors"),
    ("https://civitai.com/api/download/models/16576", "loras", "epi_noiseoffset2.safetensors"),
    ("https://civitai.com/api/download/models/62833", "loras", "add_detail.safetensors"),
    ("https://huggingface.co/stabilityai/sdxl-vae/resolve/main/sdxl_vae.safetensors", "vae", "sdxl_vae.safetensors"),
]
for model_url, model_type, model_name in repositories:
    target_dir = os.path.join(model_path, model_type, model_name)
    if not os.path.exists(target_dir):
        subprocess.run(["aria2c", "--console-log-level=error", "-c", "-x", "16", "-s", "16", "-k", "1M", model_url, "-d", target_dir, "-o", model_name], check=True)
    else:
        print("Founded ",model_name)

!pip install -r /content/drive/MyDrive/ComfyUI/custom_nodes/comfyui_controlnet_aux/requirements.txt
!pip install insightface onnxruntime

## Cloudflare
!wget https://github.com/cloudflare/cloudflared/releases/latest/download/cloudflared-linux-amd64 -O /content/cloudflared-linux-amd64 && chmod 777 /content/cloudflared-linux-amd64
import atexit, requests, subprocess, time, re, os
from random import randint
from threading import Timer
from queue import Queue
def cloudflared(port, metrics_port, output_queue):
    atexit.register(lambda p: p.terminate(), subprocess.Popen(['/content/cloudflared-linux-amd64', 'tunnel', '--url', f'http://127.0.0.1:{port}', '--metrics', f'127.0.0.1:{metrics_port}'], stdout=subprocess.DEVNULL, stderr=subprocess.STDOUT))
    attempts, tunnel_url = 0, None
    while attempts < 10 and not tunnel_url:
        attempts += 1
        time.sleep(3)
        try:
            tunnel_url = re.search("(?P<url>https?:\/\/[^\s]+.trycloudflare.com)", requests.get(f'http://127.0.0.1:{metrics_port}/metrics').text).group("url")
        except:
            pass
    if not tunnel_url:
        raise Exception("Can't connect to Cloudflare Edge")
    output_queue.put(tunnel_url)
output_queue, metrics_port = Queue(), randint(8100, 9000)
thread = Timer(2, cloudflared, args=(8188, metrics_port, output_queue))
thread.start()
thread.join()
tunnel_url = output_queue.get()
os.environ['webui_url'] = tunnel_url
print(tunnel_url)


